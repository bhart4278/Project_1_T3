{
 "cells": [
  {
   "cell_type": "markdown",
   "id": "5385623e-8fd3-4dc0-be99-d952244d712d",
   "metadata": {},
   "source": [
    "# Washington State Electric Vehicle Data\n",
    "- Analysis here"
   ]
  },
  {
   "cell_type": "markdown",
   "id": "db2f9627-adb8-468f-bfac-2afcb7508409",
   "metadata": {},
   "source": [
    "## Q1: Popularity of EV models"
   ]
  },
  {
   "cell_type": "code",
   "execution_count": null,
   "id": "a6150ddb-8460-4bdb-b91e-65fa9d7bceba",
   "metadata": {},
   "outputs": [],
   "source": []
  },
  {
   "cell_type": "markdown",
   "id": "ea02892d-ffb1-427e-b648-d6e752dfa3de",
   "metadata": {},
   "source": [
    "## Q2: Correlation of number of EV's per County vs. County Income"
   ]
  },
  {
   "cell_type": "code",
   "execution_count": null,
   "id": "84dfb039-94a2-46c6-9944-12eab2aaf871",
   "metadata": {},
   "outputs": [],
   "source": []
  },
  {
   "cell_type": "markdown",
   "id": "8607f2b5-5f02-4e34-9752-f2bd5e8113c1",
   "metadata": {},
   "source": [
    "## Q3: Correlation of number of EV's per County vs. County Population Size"
   ]
  },
  {
   "cell_type": "code",
   "execution_count": null,
   "id": "83ca9120-fbb1-468f-b142-6d94c535bb04",
   "metadata": {},
   "outputs": [],
   "source": []
  },
  {
   "cell_type": "markdown",
   "id": "a2697984-00d0-4e59-925e-da963fc46f4d",
   "metadata": {},
   "source": [
    "## Q4: Map of Cars per County"
   ]
  },
  {
   "cell_type": "code",
   "execution_count": null,
   "id": "2c838e5d-f404-406e-91cc-c88fabf6035a",
   "metadata": {},
   "outputs": [],
   "source": []
  },
  {
   "cell_type": "markdown",
   "id": "ec681f41-193b-48d6-925b-2958710ec380",
   "metadata": {},
   "source": [
    "## Q5: Map of EV Charging Stations in WA"
   ]
  },
  {
   "cell_type": "code",
   "execution_count": null,
   "id": "f685dc8a-d018-4a70-b645-7e2e4aa2bcae",
   "metadata": {},
   "outputs": [],
   "source": []
  },
  {
   "cell_type": "markdown",
   "id": "d686ded2-0cba-4ced-ae58-bcc081c503d5",
   "metadata": {},
   "source": [
    "## Q6: Trend of EV Purchases Over Time"
   ]
  },
  {
   "cell_type": "code",
   "execution_count": null,
   "id": "dc79038a-aedf-475d-a6f6-ba5652401616",
   "metadata": {},
   "outputs": [],
   "source": []
  }
 ],
 "metadata": {
  "kernelspec": {
   "display_name": "Python 3 (ipykernel)",
   "language": "python",
   "name": "python3"
  },
  "language_info": {
   "codemirror_mode": {
    "name": "ipython",
    "version": 3
   },
   "file_extension": ".py",
   "mimetype": "text/x-python",
   "name": "python",
   "nbconvert_exporter": "python",
   "pygments_lexer": "ipython3",
   "version": "3.10.14"
  }
 },
 "nbformat": 4,
 "nbformat_minor": 5
}
