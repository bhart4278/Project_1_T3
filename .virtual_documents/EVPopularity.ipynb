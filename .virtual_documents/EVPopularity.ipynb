# Dependencies and Setup
import matplotlib.pyplot as plt
import pandas as pd
import scipy.stats as st
from pathlib import Path
import numpy as np

# Data file path
EV_path = "Resources/Electric_Vehicle_Population_Data.csv"

# Read the CSV into a Pandas DataFrame
EV_df = pd.read_csv(EV_path, low_memory=False)

# Print the first five rows of data to the screen
EV_df.head()


groupedEV_count = EV_df.groupby('Model')['VIN (1-10)'].count().reset_index(name='Count')
groupedEV_count.head()


groupedEV_count = groupedEV_count.sort_values(by='Count', ascending=False)
popularEV_15=groupedEV_count.head(15)
popularEV_15.head(15)


# Create array for x-axis
x_axis = np.arange(len(popularEV_15))



# Tell matplotlib that we will be making a bar chart
# We apply align="center" to ensure our bars line up with our tick marks

bars = plt.bar(x_axis, popularEV_15["Count"], color='teal', alpha=0.5, align="center")

# Tell matplotlib where we would like to place each of our x axis headers
tick_locations = [value for value in x_axis]
plt.xticks(tick_locations,popularEV_15["Model"] ,rotation=75)

# Give our chart some labels and a tile
plt.title("Top 15 Popular Electric Vehicles",color="teal",fontweight='bold')
plt.xlabel("EV Models",color="teal")
plt.ylabel("#EV",color="teal")

# Add values on top of the bars
for bar in bars:
    yval = bar.get_height()  # Get the height of the bar
    plt.text(bar.get_x() + bar.get_width() / 2, yval, yval, 
             ha='center', va='bottom',fontsize=8,color="black")  # Add text at the top of the bar
    
plt.tight_layout()
plt.show()


#Get a dataframe only with the Model and Electic Range > 0
model_range=EV_df.groupby('Model')['Electric Range'].mean().reset_index(name='Count')
model_range = model_range.sort_values(by='Model', ascending=False)
print(model_range)


#Merge Electric Range and Grouped groupedEV_count to check the correlation between electric range and popularity
ev_count_to_range = pd.merge(groupedEV_count,model_range, on="Model")

ev_count_to_range. head()



