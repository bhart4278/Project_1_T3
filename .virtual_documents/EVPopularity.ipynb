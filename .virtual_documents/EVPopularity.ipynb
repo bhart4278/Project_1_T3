# Dependencies and Setup
import matplotlib.pyplot as plt
import pandas as pd
import scipy.stats as st
from pathlib import Path
import numpy as np

# Data file path
EV_path = "Resources/Electric_Vehicle_Population_Data.csv"

# Read the CSV into a Pandas DataFrame
EV_df = pd.read_csv(EV_path, low_memory=False)

# Print the first five rows of data to the screen
EV_df.head()


groupedEV_count = EV_df.groupby('Model')['VIN (1-10)'].count().reset_index(name='Count')
groupedEV_count.head()


groupedEV_count = groupedEV_count.sort_values(by='Count', ascending=False)
popularEV_15=groupedEV_count.head(15)
popularEV_15.head(15)


# Create array for x-axis
x_axis = np.arange(len(popularEV_15))



# Tell matplotlib that we will be making a bar chart
# We apply align="center" to ensure our bars line up with our tick marks

bars = plt.bar(x_axis, popularEV_15["Count"], color='teal', alpha=0.5, align="center")

# Tell matplotlib where we would like to place each of our x axis headers
tick_locations = [value for value in x_axis]
plt.xticks(tick_locations,popularEV_15["Model"] ,rotation=75)

# Give our chart some labels and a tile
plt.title("Top 15 Popular Electric Vehicles",color="teal",fontweight='bold')
plt.xlabel("EV Models",color="teal")
plt.ylabel("#EV",color="teal")

# Add values on top of the bars
for bar in bars:
    yval = bar.get_height()  # Get the height of the bar
    plt.text(bar.get_x() + bar.get_width() / 2, yval, yval, 
             ha='center', va='bottom',fontsize=8,color="black")  # Add text at the top of the bar
    
plt.tight_layout()
plt.show()


ev_popularity_stats=EV_df[EV_df["Electric Range"]>0]

summary_stats = ['mean','median','var','std','sem']
agg_ev_popularity=ev_popularity_stats.groupby(['Model']).agg({'Electric Range': summary_stats})

agg_ev_popularity.to_csv("output_data/summarystats.csv")
agg_ev_popularity


#Get a dataframe only with the Model and Electric Range average
model_range=EV_df.groupby('Model')['Electric Range'].mean().reset_index(name='Count')

#Merge Electric Range and Grouped groupedEV_count to check the correlation between electric range and popularity
ev_count_to_range = pd.merge(groupedEV_count,model_range, on="Model")
ev_count_to_range.columns = ['Model','Count','Avg Range']
ev_count_to_rangenotzero=ev_count_to_range[ev_count_to_range['Avg Range']>0]
ev_count_to_rangenotzero = ev_count_to_rangenotzero.sort_values(by='Avg Range', ascending=True)
ev_count_to_rangenotzero. head()


x_values = ev_count_to_rangenotzero['Count']
y_values = ev_count_to_rangenotzero['Avg Range']
# Perform a linear regression on Model Count vs. Average Range
(slope, intercept, rvalue, pvalue, stderr) = st.linregress(x_values, y_values)

# Get regression values
regress_values = x_values * slope + intercept
print(regress_values)

# Create line equation string
line_eq = "y = " + str(round(slope,2)) + "x +" + str(round(intercept,2))
print(line_eq)

# Create Plot
plt.scatter(x_values,y_values)
plt.plot(x_values,regress_values,"r-")

# Label plot and annotate the line equation
plt.xlabel('EV Count')
plt.ylabel('Avg. Range')
plt.annotate(line_eq,(20,15),fontsize=15,color="red")
plt.title(f"EV Count vs Avg Range")

# Print r^2 value
print(f"The r^2-value is: {rvalue**2}")

# Show plot
plt.show()



