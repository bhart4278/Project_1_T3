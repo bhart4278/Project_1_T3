import pandas as pd
import requests
import matplotlib.pyplot as plt


# Load the dataset from the URL

url = "https://data.wa.gov/api/views/rpr4-cgyd/rows.csv?accessType=DOWNLOAD"
title_registration_data = pd.read_csv(url)

# Inspect the dataset structure
title_registration_data.head()



# Filter the dataset to only include rows where 'New or Used Vehicle' is 'New'
new_vehicles_data = title_registration_data[title_registration_data['New or Used Vehicle'] == 'New']

# Display the first few rows of the filtered data
new_vehicles_data.head()


# Select only the relevant columns
cleaned_data = new_vehicles_data[['VIN (1-10)', 'DOL Vehicle ID', 'Model Year', 'Make', 'Model', 
                                        'New or Used Vehicle', 'Sale Date', 'Transaction Type', 
                                        'Transaction Date', 'Year', 'County', 'City', 'Postal Code']]

# Remove duplicates based on the 'VIN (1-10)' column
cleaned_new_vehicles = cleaned_data.drop_duplicates(subset='VIN (1-10)', keep='first').reset_index()

# Save the cleaned data to a new CSV file
cleaned_new_vehicles.to_csv('cleaned_new_vehicle_data.csv', index=False)

# Display the first few rows of the cleaned dataset without duplicates
cleaned_new_vehicles








